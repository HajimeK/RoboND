{
 "cells": [
  {
   "cell_type": "code",
   "execution_count": 1,
   "metadata": {},
   "outputs": [],
   "source": [
    "%matplotlib inline"
   ]
  },
  {
   "cell_type": "code",
   "execution_count": 2,
   "metadata": {},
   "outputs": [
    {
     "data": {
      "image/png": "[encoded data removed]",
      "text/plain": [
       "<matplotlib.figure.Figure at 0x7f5bf0001f28>"
      ]
     },
     "metadata": {},
     "output_type": "display_data"
    },
    {
     "data": {
      "image/png": "[encoded data removed]",
      "text/plain": [
       "<matplotlib.figure.Figure at 0x7f5beec446a0>"
      ]
     },
     "metadata": {},
     "output_type": "display_data"
    },
    {
     "name": "stdout",
     "output_type": "stream",
     "text": [
      "The rise time is 7.455 seconds\n",
      "The percent overshoot is 369.7%\n",
      "The offset from the target at 30 seconds is 36.974 meters\n"
     ]
    }
   ],
   "source": [
    "import numpy as np\n",
    "import matplotlib.pyplot as plt\n",
    "from open_controller import Open_Controller\n",
    "from quad1d_eom import ydot\n",
    "\n",
    "##################################################################################\n",
    "##################################################################################\n",
    "# Here we are going to apply a continuous and constant control effort with a value \n",
    "# of 1.7!\n",
    "control_effort = 1.7\n",
    "##################################################################################\n",
    "##################################################################################\n",
    "\n",
    "# Simulation parameters\n",
    "N = 500 # number of simulation points\n",
    "t0 = 0  # starting time, (sec)\n",
    "tf = 30 # end time, (sec)\n",
    "time = np.linspace(t0, tf, N)\n",
    "dt = time[1] - time[0] # delta t, (sec)\n",
    "\n",
    "##################################################################################\n",
    "# Core simulation code\n",
    "# Inital conditions (i.e., initial state vector)\n",
    "y = [0, 0]\n",
    "   #y[0] = initial altitude, (m)\n",
    "   #y[1] = initial speed, (m/s)\n",
    "\n",
    "# Initialize array to store values\n",
    "soln = np.zeros((len(time),len(y)))\n",
    "\n",
    "# Create instance of Open_Controller class\n",
    "controller = Open_Controller()\n",
    "\n",
    "# Set our contstant control effort\n",
    "controller.setControlEffort(control_effort)\n",
    "\n",
    "# Set altitude target\n",
    "r = 10 # meters\n",
    "controller.setTarget(r)\n",
    "\n",
    "# Simulate quadrotor motion\n",
    "j = 0 # dummy counter\n",
    "for t in time:\n",
    "    # Evaluate state at next time point\n",
    "    y = ydot(y,t,controller)\n",
    "    # Store results\n",
    "    soln[j,:] = y\n",
    "    j += 1\n",
    "\n",
    "##################################################################################\n",
    "# Plot results\n",
    "# Plot 1: This is the altitude of our quad copter as a function of time!\n",
    "SP = np.ones_like(time)*r # altitude set point\n",
    "fig = plt.figure()\n",
    "ax1 = fig.add_subplot(211)\n",
    "ax1.plot(time, soln[:,0],time,SP,'--')\n",
    "ax1.set_xlabel('Time, (sec)')\n",
    "ax1.set_ylabel('Altitude, (m)')\n",
    "\n",
    "# Plot 2: This is the speed of our quad copter as a function of time!\n",
    "ax2 = fig.add_subplot(212)\n",
    "ax2.plot(time, soln[:,1])\n",
    "ax2.set_xlabel('Time, (sec)')\n",
    "ax2.set_ylabel('Speed, (m/s)')\n",
    "plt.tight_layout()\n",
    "plt.show()\n",
    "\n",
    "# Plot 3: This is the control effort applied to our quad copter as a function of time!\n",
    "fig2 = plt.figure()\n",
    "ax3 = fig2.add_subplot(111)\n",
    "ax3.plot(time, controller.effort_applied, label='effort', linewidth=3, color = 'red')\n",
    "ax3.set_xlabel('Time, (sec)')\n",
    "ax3.set_ylabel('Control Effort')\n",
    "h, l = ax3.get_legend_handles_labels()\n",
    "ax3.legend(h, l)\n",
    "plt.tight_layout()\n",
    "plt.show()\n",
    "##################\n",
    "y0 = soln[:,0] #altitude\n",
    "rise_time_index =  np.argmax(y0>r)\n",
    "RT = time[rise_time_index]\n",
    "print(\"The rise time is {0:.3f} seconds\".format(RT))\n",
    "\n",
    "OS = (np.max(y0) - r)/r*100\n",
    "if OS < 0:\n",
    "    OS = 0\n",
    "print(\"The percent overshoot is {0:.1f}%\".format(OS))\n",
    "\n",
    "print (\"The offset from the target at 30 seconds is {0:.3f} meters\".format(abs(soln[-1,0]-r)))"
   ]
  },
  {
   "cell_type": "code",
   "execution_count": null,
   "metadata": {},
   "outputs": [],
   "source": []
  }
 ],
 "metadata": {
  "kernelspec": {
   "display_name": "Python [conda env:RoboND]",
   "language": "python",
   "name": "conda-env-RoboND-py"
  },
  "language_info": {
   "codemirror_mode": {
    "name": "ipython",
    "version": 3
   },
   "file_extension": ".py",
   "mimetype": "text/x-python",
   "name": "python",
   "nbconvert_exporter": "python",
   "pygments_lexer": "ipython3",
   "version": "3.5.2"
  },
  "widgets": {
   "state": {},
   "version": "1.1.2"
  }
 },
 "nbformat": 4,
 "nbformat_minor": 2
}
